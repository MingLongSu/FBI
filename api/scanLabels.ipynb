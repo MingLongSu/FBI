{
 "cells": [
  {
   "cell_type": "code",
   "execution_count": 1,
   "metadata": {},
   "outputs": [
    {
     "name": "stdout",
     "output_type": "stream",
     "text": [
      "Requirement already satisfied: paddlepaddle in c:\\users\\banan\\appdata\\local\\programs\\python\\python39\\lib\\site-packages (2.2.2)\n",
      "Requirement already satisfied: numpy<=1.19.3,>=1.13 in c:\\users\\banan\\appdata\\local\\programs\\python\\python39\\lib\\site-packages (from paddlepaddle) (1.19.3)\n",
      "Requirement already satisfied: protobuf>=3.1.0 in c:\\users\\banan\\appdata\\local\\programs\\python\\python39\\lib\\site-packages (from paddlepaddle) (3.20.1)\n",
      "Requirement already satisfied: Pillow in c:\\users\\banan\\appdata\\local\\programs\\python\\python39\\lib\\site-packages (from paddlepaddle) (9.1.0)\n",
      "Requirement already satisfied: six in c:\\users\\banan\\appdata\\local\\programs\\python\\python39\\lib\\site-packages (from paddlepaddle) (1.16.0)\n",
      "Requirement already satisfied: decorator in c:\\users\\banan\\appdata\\local\\programs\\python\\python39\\lib\\site-packages (from paddlepaddle) (5.1.1)\n",
      "Requirement already satisfied: requests>=2.20.0 in c:\\users\\banan\\appdata\\local\\programs\\python\\python39\\lib\\site-packages (from paddlepaddle) (2.25.1)\n",
      "Requirement already satisfied: astor in c:\\users\\banan\\appdata\\local\\programs\\python\\python39\\lib\\site-packages (from paddlepaddle) (0.8.1)\n",
      "Requirement already satisfied: urllib3<1.27,>=1.21.1 in c:\\users\\banan\\appdata\\local\\programs\\python\\python39\\lib\\site-packages (from requests>=2.20.0->paddlepaddle) (1.26.5)\n",
      "Requirement already satisfied: idna<3,>=2.5 in c:\\users\\banan\\appdata\\local\\programs\\python\\python39\\lib\\site-packages (from requests>=2.20.0->paddlepaddle) (2.10)\n",
      "Requirement already satisfied: chardet<5,>=3.0.2 in c:\\users\\banan\\appdata\\local\\programs\\python\\python39\\lib\\site-packages (from requests>=2.20.0->paddlepaddle) (4.0.0)\n",
      "Requirement already satisfied: certifi>=2017.4.17 in c:\\users\\banan\\appdata\\local\\programs\\python\\python39\\lib\\site-packages (from requests>=2.20.0->paddlepaddle) (2021.5.30)\n",
      "Note: you may need to restart the kernel to use updated packages.\n"
     ]
    },
    {
     "name": "stderr",
     "output_type": "stream",
     "text": [
      "WARNING: You are using pip version 21.1.2; however, version 22.0.4 is available.\n",
      "You should consider upgrading via the 'c:\\Users\\banan\\AppData\\Local\\Programs\\Python\\Python39\\python.exe -m pip install --upgrade pip' command.\n"
     ]
    },
    {
     "name": "stdout",
     "output_type": "stream",
     "text": [
      "Requirement already satisfied: paddleocr>=2.0.1 in c:\\users\\banan\\appdata\\local\\programs\\python\\python39\\lib\\site-packages (2.5)\n",
      "Requirement already satisfied: tqdm in c:\\users\\banan\\appdata\\local\\programs\\python\\python39\\lib\\site-packages (from paddleocr>=2.0.1) (4.64.0)\n",
      "Requirement already satisfied: lxml in c:\\users\\banan\\appdata\\local\\programs\\python\\python39\\lib\\site-packages (from paddleocr>=2.0.1) (4.8.0)\n",
      "Requirement already satisfied: lmdb in c:\\users\\banan\\appdata\\local\\programs\\python\\python39\\lib\\site-packages (from paddleocr>=2.0.1) (1.3.0)\n",
      "Requirement already satisfied: opencv-contrib-python==4.4.0.46 in c:\\users\\banan\\appdata\\local\\programs\\python\\python39\\lib\\site-packages (from paddleocr>=2.0.1) (4.4.0.46)\n",
      "Requirement already satisfied: pyclipper in c:\\users\\banan\\appdata\\local\\programs\\python\\python39\\lib\\site-packages (from paddleocr>=2.0.1) (1.3.0.post2)\n",
      "Requirement already satisfied: premailer in c:\\users\\banan\\appdata\\local\\programs\\python\\python39\\lib\\site-packages (from paddleocr>=2.0.1) (3.10.0)\n",
      "Requirement already satisfied: scikit-image in c:\\users\\banan\\appdata\\local\\programs\\python\\python39\\lib\\site-packages (from paddleocr>=2.0.1) (0.19.2)\n",
      "Requirement already satisfied: attrdict in c:\\users\\banan\\appdata\\local\\programs\\python\\python39\\lib\\site-packages (from paddleocr>=2.0.1) (2.0.1)\n",
      "Requirement already satisfied: cython in c:\\users\\banan\\appdata\\local\\programs\\python\\python39\\lib\\site-packages (from paddleocr>=2.0.1) (0.29.28)\n",
      "Requirement already satisfied: imgaug==0.4.0 in c:\\users\\banan\\appdata\\local\\programs\\python\\python39\\lib\\site-packages (from paddleocr>=2.0.1) (0.4.0)\n",
      "Requirement already satisfied: visualdl in c:\\users\\banan\\appdata\\local\\programs\\python\\python39\\lib\\site-packages (from paddleocr>=2.0.1) (2.2.3)\n",
      "Requirement already satisfied: openpyxl in c:\\users\\banan\\appdata\\local\\programs\\python\\python39\\lib\\site-packages (from paddleocr>=2.0.1) (3.0.9)\n",
      "Requirement already satisfied: python-Levenshtein in c:\\users\\banan\\appdata\\local\\programs\\python\\python39\\lib\\site-packages (from paddleocr>=2.0.1) (0.12.2)\n",
      "Requirement already satisfied: shapely in c:\\users\\banan\\appdata\\local\\programs\\python\\python39\\lib\\site-packages (from paddleocr>=2.0.1) (1.8.2)\n",
      "Requirement already satisfied: numpy in c:\\users\\banan\\appdata\\local\\programs\\python\\python39\\lib\\site-packages (from paddleocr>=2.0.1) (1.19.3)\n",
      "Requirement already satisfied: six in c:\\users\\banan\\appdata\\local\\programs\\python\\python39\\lib\\site-packages (from imgaug==0.4.0->paddleocr>=2.0.1) (1.16.0)\n",
      "Requirement already satisfied: Pillow in c:\\users\\banan\\appdata\\local\\programs\\python\\python39\\lib\\site-packages (from imgaug==0.4.0->paddleocr>=2.0.1) (9.1.0)\n",
      "Requirement already satisfied: matplotlib in c:\\users\\banan\\appdata\\local\\programs\\python\\python39\\lib\\site-packages (from imgaug==0.4.0->paddleocr>=2.0.1) (3.5.2)\n",
      "Requirement already satisfied: imageio in c:\\users\\banan\\appdata\\local\\programs\\python\\python39\\lib\\site-packages (from imgaug==0.4.0->paddleocr>=2.0.1) (2.19.0)\n",
      "Requirement already satisfied: opencv-python in c:\\users\\banan\\appdata\\local\\programs\\python\\python39\\lib\\site-packages (from imgaug==0.4.0->paddleocr>=2.0.1) (4.5.5.64)\n",
      "Requirement already satisfied: scipy in c:\\users\\banan\\appdata\\local\\programs\\python\\python39\\lib\\site-packages (from imgaug==0.4.0->paddleocr>=2.0.1) (1.8.0)\n",
      "Requirement already satisfied: packaging>=20.0 in c:\\users\\banan\\appdata\\local\\programs\\python\\python39\\lib\\site-packages (from scikit-image->paddleocr>=2.0.1) (21.3)\n",
      "Requirement already satisfied: networkx>=2.2 in c:\\users\\banan\\appdata\\local\\programs\\python\\python39\\lib\\site-packages (from scikit-image->paddleocr>=2.0.1) (2.8)\n",
      "Requirement already satisfied: tifffile>=2019.7.26 in c:\\users\\banan\\appdata\\local\\programs\\python\\python39\\lib\\site-packages (from scikit-image->paddleocr>=2.0.1) (2022.5.4)\n",
      "Requirement already satisfied: PyWavelets>=1.1.1 in c:\\users\\banan\\appdata\\local\\programs\\python\\python39\\lib\\site-packages (from scikit-image->paddleocr>=2.0.1) (1.3.0)\n",
      "Requirement already satisfied: pyparsing!=3.0.5,>=2.0.2 in c:\\users\\banan\\appdata\\local\\programs\\python\\python39\\lib\\site-packages (from packaging>=20.0->scikit-image->paddleocr>=2.0.1) (3.0.8)\n",
      "Requirement already satisfied: kiwisolver>=1.0.1 in c:\\users\\banan\\appdata\\local\\programs\\python\\python39\\lib\\site-packages (from matplotlib->imgaug==0.4.0->paddleocr>=2.0.1) (1.4.2)\n",
      "Requirement already satisfied: cycler>=0.10 in c:\\users\\banan\\appdata\\local\\programs\\python\\python39\\lib\\site-packages (from matplotlib->imgaug==0.4.0->paddleocr>=2.0.1) (0.11.0)\n",
      "Requirement already satisfied: python-dateutil>=2.7 in c:\\users\\banan\\appdata\\local\\programs\\python\\python39\\lib\\site-packages (from matplotlib->imgaug==0.4.0->paddleocr>=2.0.1) (2.8.2)\n",
      "Requirement already satisfied: fonttools>=4.22.0 in c:\\users\\banan\\appdata\\local\\programs\\python\\python39\\lib\\site-packages (from matplotlib->imgaug==0.4.0->paddleocr>=2.0.1) (4.33.3)\n",
      "Requirement already satisfied: et-xmlfile in c:\\users\\banan\\appdata\\local\\programs\\python\\python39\\lib\\site-packages (from openpyxl->paddleocr>=2.0.1) (1.1.0)\n",
      "Requirement already satisfied: cssutils in c:\\users\\banan\\appdata\\local\\programs\\python\\python39\\lib\\site-packages (from premailer->paddleocr>=2.0.1) (2.4.0)\n",
      "Requirement already satisfied: requests in c:\\users\\banan\\appdata\\local\\programs\\python\\python39\\lib\\site-packages (from premailer->paddleocr>=2.0.1) (2.25.1)\n",
      "Requirement already satisfied: cssselect in c:\\users\\banan\\appdata\\local\\programs\\python\\python39\\lib\\site-packages (from premailer->paddleocr>=2.0.1) (1.1.0)\n",
      "Requirement already satisfied: cachetools in c:\\users\\banan\\appdata\\local\\programs\\python\\python39\\lib\\site-packages (from premailer->paddleocr>=2.0.1) (5.0.0)\n",
      "Requirement already satisfied: setuptools in c:\\users\\banan\\appdata\\local\\programs\\python\\python39\\lib\\site-packages (from python-Levenshtein->paddleocr>=2.0.1) (56.0.0)\n",
      "Requirement already satisfied: chardet<5,>=3.0.2 in c:\\users\\banan\\appdata\\local\\programs\\python\\python39\\lib\\site-packages (from requests->premailer->paddleocr>=2.0.1) (4.0.0)\n",
      "Requirement already satisfied: idna<3,>=2.5 in c:\\users\\banan\\appdata\\local\\programs\\python\\python39\\lib\\site-packages (from requests->premailer->paddleocr>=2.0.1) (2.10)\n",
      "Requirement already satisfied: certifi>=2017.4.17 in c:\\users\\banan\\appdata\\local\\programs\\python\\python39\\lib\\site-packages (from requests->premailer->paddleocr>=2.0.1) (2021.5.30)\n",
      "Requirement already satisfied: urllib3<1.27,>=1.21.1 in c:\\users\\banan\\appdata\\local\\programs\\python\\python39\\lib\\site-packages (from requests->premailer->paddleocr>=2.0.1) (1.26.5)\n",
      "Requirement already satisfied: colorama in c:\\users\\banan\\appdata\\local\\programs\\python\\python39\\lib\\site-packages (from tqdm->paddleocr>=2.0.1) (0.4.4)\n",
      "Requirement already satisfied: flask>=1.1.1 in c:\\users\\banan\\appdata\\local\\programs\\python\\python39\\lib\\site-packages (from visualdl->paddleocr>=2.0.1) (2.1.2)\n",
      "Requirement already satisfied: pre-commit in c:\\users\\banan\\appdata\\local\\programs\\python\\python39\\lib\\site-packages (from visualdl->paddleocr>=2.0.1) (2.19.0)\n",
      "Requirement already satisfied: shellcheck-py in c:\\users\\banan\\appdata\\local\\programs\\python\\python39\\lib\\site-packages (from visualdl->paddleocr>=2.0.1) (0.8.0.4)\n",
      "Requirement already satisfied: pandas in c:\\users\\banan\\appdata\\local\\programs\\python\\python39\\lib\\site-packages (from visualdl->paddleocr>=2.0.1) (1.4.2)\n",
      "Requirement already satisfied: Flask-Babel>=1.0.0 in c:\\users\\banan\\appdata\\local\\programs\\python\\python39\\lib\\site-packages (from visualdl->paddleocr>=2.0.1) (2.0.0)\n",
      "Requirement already satisfied: flake8>=3.7.9 in c:\\users\\banan\\appdata\\local\\programs\\python\\python39\\lib\\site-packages (from visualdl->paddleocr>=2.0.1) (4.0.1)\n",
      "Requirement already satisfied: bce-python-sdk in c:\\users\\banan\\appdata\\local\\programs\\python\\python39\\lib\\site-packages (from visualdl->paddleocr>=2.0.1) (0.8.64)\n",
      "Requirement already satisfied: protobuf>=3.11.0 in c:\\users\\banan\\appdata\\local\\programs\\python\\python39\\lib\\site-packages (from visualdl->paddleocr>=2.0.1) (3.20.1)\n",
      "Requirement already satisfied: mccabe<0.7.0,>=0.6.0 in c:\\users\\banan\\appdata\\local\\programs\\python\\python39\\lib\\site-packages (from flake8>=3.7.9->visualdl->paddleocr>=2.0.1) (0.6.1)\n",
      "Requirement already satisfied: pyflakes<2.5.0,>=2.4.0 in c:\\users\\banan\\appdata\\local\\programs\\python\\python39\\lib\\site-packages (from flake8>=3.7.9->visualdl->paddleocr>=2.0.1) (2.4.0)\n",
      "Requirement already satisfied: pycodestyle<2.9.0,>=2.8.0 in c:\\users\\banan\\appdata\\local\\programs\\python\\python39\\lib\\site-packages (from flake8>=3.7.9->visualdl->paddleocr>=2.0.1) (2.8.0)\n",
      "Requirement already satisfied: Werkzeug>=2.0 in c:\\users\\banan\\appdata\\local\\programs\\python\\python39\\lib\\site-packages (from flask>=1.1.1->visualdl->paddleocr>=2.0.1) (2.1.2)\n",
      "Requirement already satisfied: importlib-metadata>=3.6.0 in c:\\users\\banan\\appdata\\local\\programs\\python\\python39\\lib\\site-packages (from flask>=1.1.1->visualdl->paddleocr>=2.0.1) (4.11.3)\n",
      "Requirement already satisfied: Jinja2>=3.0 in c:\\users\\banan\\appdata\\local\\programs\\python\\python39\\lib\\site-packages (from flask>=1.1.1->visualdl->paddleocr>=2.0.1) (3.1.2)\n",
      "Requirement already satisfied: click>=8.0 in c:\\users\\banan\\appdata\\local\\programs\\python\\python39\\lib\\site-packages (from flask>=1.1.1->visualdl->paddleocr>=2.0.1) (8.1.3)\n",
      "Requirement already satisfied: itsdangerous>=2.0 in c:\\users\\banan\\appdata\\local\\programs\\python\\python39\\lib\\site-packages (from flask>=1.1.1->visualdl->paddleocr>=2.0.1) (2.1.2)\n",
      "Requirement already satisfied: pytz in c:\\users\\banan\\appdata\\local\\programs\\python\\python39\\lib\\site-packages (from Flask-Babel>=1.0.0->visualdl->paddleocr>=2.0.1) (2022.1)\n",
      "Requirement already satisfied: Babel>=2.3 in c:\\users\\banan\\appdata\\local\\programs\\python\\python39\\lib\\site-packages (from Flask-Babel>=1.0.0->visualdl->paddleocr>=2.0.1) (2.10.1)\n",
      "Requirement already satisfied: zipp>=0.5 in c:\\users\\banan\\appdata\\local\\programs\\python\\python39\\lib\\site-packages (from importlib-metadata>=3.6.0->flask>=1.1.1->visualdl->paddleocr>=2.0.1) (3.8.0)\n",
      "Requirement already satisfied: MarkupSafe>=2.0 in c:\\users\\banan\\appdata\\local\\programs\\python\\python39\\lib\\site-packages (from Jinja2>=3.0->flask>=1.1.1->visualdl->paddleocr>=2.0.1) (2.1.1)\n",
      "Requirement already satisfied: pycryptodome>=3.8.0 in c:\\users\\banan\\appdata\\local\\programs\\python\\python39\\lib\\site-packages (from bce-python-sdk->visualdl->paddleocr>=2.0.1) (3.14.1)\n",
      "Requirement already satisfied: future>=0.6.0 in c:\\users\\banan\\appdata\\local\\programs\\python\\python39\\lib\\site-packages (from bce-python-sdk->visualdl->paddleocr>=2.0.1) (0.18.2)\n",
      "Requirement already satisfied: virtualenv>=20.0.8 in c:\\users\\banan\\appdata\\local\\programs\\python\\python39\\lib\\site-packages (from pre-commit->visualdl->paddleocr>=2.0.1) (20.14.1)\n",
      "Requirement already satisfied: identify>=1.0.0 in c:\\users\\banan\\appdata\\local\\programs\\python\\python39\\lib\\site-packages (from pre-commit->visualdl->paddleocr>=2.0.1) (2.5.0)\n",
      "Requirement already satisfied: cfgv>=2.0.0 in c:\\users\\banan\\appdata\\local\\programs\\python\\python39\\lib\\site-packages (from pre-commit->visualdl->paddleocr>=2.0.1) (3.3.1)\n",
      "Requirement already satisfied: nodeenv>=0.11.1 in c:\\users\\banan\\appdata\\local\\programs\\python\\python39\\lib\\site-packages (from pre-commit->visualdl->paddleocr>=2.0.1) (1.6.0)\n",
      "Requirement already satisfied: pyyaml>=5.1 in c:\\users\\banan\\appdata\\local\\programs\\python\\python39\\lib\\site-packages (from pre-commit->visualdl->paddleocr>=2.0.1) (6.0)\n",
      "Requirement already satisfied: toml in c:\\users\\banan\\appdata\\roaming\\python\\python39\\site-packages (from pre-commit->visualdl->paddleocr>=2.0.1) (0.10.2)\n",
      "Requirement already satisfied: platformdirs<3,>=2 in c:\\users\\banan\\appdata\\local\\programs\\python\\python39\\lib\\site-packages (from virtualenv>=20.0.8->pre-commit->visualdl->paddleocr>=2.0.1) (2.5.2)\n",
      "Requirement already satisfied: filelock<4,>=3.2 in c:\\users\\banan\\appdata\\local\\programs\\python\\python39\\lib\\site-packages (from virtualenv>=20.0.8->pre-commit->visualdl->paddleocr>=2.0.1) (3.6.0)\n",
      "Requirement already satisfied: distlib<1,>=0.3.1 in c:\\users\\banan\\appdata\\local\\programs\\python\\python39\\lib\\site-packages (from virtualenv>=20.0.8->pre-commit->visualdl->paddleocr>=2.0.1) (0.3.4)\n",
      "Note: you may need to restart the kernel to use updated packages.\n"
     ]
    },
    {
     "name": "stderr",
     "output_type": "stream",
     "text": [
      "WARNING: You are using pip version 21.1.2; however, version 22.0.4 is available.\n",
      "You should consider upgrading via the 'c:\\Users\\banan\\AppData\\Local\\Programs\\Python\\Python39\\python.exe -m pip install --upgrade pip' command.\n"
     ]
    }
   ],
   "source": [
    "# Installing the Paddle OCR\n",
    "%pip install paddlepaddle\n",
    "%pip install \"paddleocr>=2.0.1\""
   ]
  },
  {
   "cell_type": "code",
   "execution_count": 2,
   "metadata": {},
   "outputs": [
    {
     "name": "stderr",
     "output_type": "stream",
     "text": [
      "fatal: destination path 'PaddleOCR' already exists and is not an empty directory.\n"
     ]
    }
   ],
   "source": [
    "# Clone paddle OCR repository\n",
    "!git clone https://github.com/PaddlePaddle/PaddleOCR"
   ]
  },
  {
   "cell_type": "code",
   "execution_count": 5,
   "metadata": {},
   "outputs": [],
   "source": [
    "from paddleocr import PaddleOCR\n",
    "import os"
   ]
  },
  {
   "cell_type": "code",
   "execution_count": 6,
   "metadata": {},
   "outputs": [
    {
     "name": "stdout",
     "output_type": "stream",
     "text": [
      "[2022/05/07 03:24:17] ppocr DEBUG: Namespace(help='==SUPPRESS==', use_gpu=False, ir_optim=True, use_tensorrt=False, min_subgraph_size=15, precision='fp32', gpu_mem=500, image_dir=None, det_algorithm='DB', det_model_dir='C:\\\\Users\\\\banan/.paddleocr/whl\\\\det\\\\en\\\\en_ppocr_mobile_v2.0_det_infer', det_limit_side_len=960, det_limit_type='max', det_db_thresh=0.3, det_db_box_thresh=0.6, det_db_unclip_ratio=1.5, max_batch_size=10, use_dilation=False, det_db_score_mode='fast', det_east_score_thresh=0.8, det_east_cover_thresh=0.1, det_east_nms_thresh=0.2, det_sast_score_thresh=0.5, det_sast_nms_thresh=0.2, det_sast_polygon=False, det_pse_thresh=0, det_pse_box_thresh=0.85, det_pse_min_area=16, det_pse_box_type='quad', det_pse_scale=1, scales=[8, 16, 32], alpha=1.0, beta=1.0, fourier_degree=5, det_fce_box_type='poly', rec_algorithm='CRNN', rec_model_dir='C:\\\\Users\\\\banan/.paddleocr/whl\\\\rec\\\\en\\\\en_number_mobile_v2.0_rec_infer', rec_image_shape='3, 32, 320', rec_batch_num=6, max_text_length=25, rec_char_dict_path='c:\\\\Users\\\\banan\\\\AppData\\\\Local\\\\Programs\\\\Python\\\\Python39\\\\lib\\\\site-packages\\\\paddleocr\\\\ppocr\\\\utils\\\\en_dict.txt', use_space_char=True, vis_font_path='./doc/fonts/simfang.ttf', drop_score=0.5, e2e_algorithm='PGNet', e2e_model_dir=None, e2e_limit_side_len=768, e2e_limit_type='max', e2e_pgnet_score_thresh=0.5, e2e_char_dict_path='./ppocr/utils/ic15_dict.txt', e2e_pgnet_valid_set='totaltext', e2e_pgnet_mode='fast', use_angle_cls=False, cls_model_dir='C:\\\\Users\\\\banan/.paddleocr/whl\\\\cls\\\\ch_ppocr_mobile_v2.0_cls_infer', cls_image_shape='3, 48, 192', label_list=['0', '180'], cls_batch_num=6, cls_thresh=0.9, enable_mkldnn=False, cpu_threads=10, use_pdserving=False, warmup=False, draw_img_save_dir='./inference_results', save_crop_res=False, crop_res_save_dir='./output', use_mp=False, total_process_num=1, process_id=0, benchmark=False, save_log_path='./log_output/', show_log=True, use_onnx=False, output='./output', table_max_len=488, table_model_dir=None, table_char_dict_path=None, layout_path_model='lp://PubLayNet/ppyolov2_r50vd_dcn_365e_publaynet/config', layout_label_map=None, mode='structure', layout=True, table=True, ocr=True, lang='en', det=True, rec=True, type='ocr', ocr_version='PP-OCRv2', structure_version='STRUCTURE')\n"
     ]
    }
   ],
   "source": [
    "# Instantiating the OCR model\n",
    "ocr_model = PaddleOCR(lang='en')"
   ]
  },
  {
   "cell_type": "code",
   "execution_count": 7,
   "metadata": {},
   "outputs": [
    {
     "name": "stdout",
     "output_type": "stream",
     "text": [
      ".\\IngredientLabels\\LabelTest__BasicIngredients3.jpg\n"
     ]
    }
   ],
   "source": [
    "# Setting paths to images\n",
    "img_test_path = os.path.join('.', 'IngredientLabels', 'LabelTest__BasicIngredients3.jpg')\n",
    "print(img_test_path)"
   ]
  },
  {
   "cell_type": "code",
   "execution_count": 9,
   "metadata": {},
   "outputs": [
    {
     "name": "stdout",
     "output_type": "stream",
     "text": [
      "[2022/05/07 03:25:46] ppocr WARNING: Since the angle classifier is not initialized, the angle classifier will not be uesd during the forward process\n",
      "[2022/05/07 03:25:47] ppocr DEBUG: dt_boxes num : 11, elapse : 0.31815075874328613\n",
      "[2022/05/07 03:25:47] ppocr DEBUG: rec_res num  : 11, elapse : 0.7738790512084961\n",
      "['attlour', 'sodium carbonate,ammonium', 'milksoy.', 'farine de ble enrichie', 'sucres sucre,sirop de glucose.eufs', 'carbonate de sodium.carbonate', \"d'ammonium,aromes naturels,sel\", 'peut contenirlaitsoja.', 'keep.cool and dry donot expose to sunlighl', 'wlow fat/faibles en gras', 'cotrans fat/gras trans']\n"
     ]
    }
   ],
   "source": [
    "# Using the OCR model to perform the OCR\n",
    "results = ocr_model.ocr(img_test_path)\n",
    "\n",
    "# instead of removing the fields hard coded wise, just remove all fields that do not have numbers in them\n",
    "filtered = []\n",
    "for i in range(len(results)):\n",
    "    #if (any(char.isdigit() for char in result[1][0]) and result[1][0].find('%') == -1):\n",
    "        #filtered.append(result[1][0])\n",
    "    # Redacts the word ingredients or fact plus the colon\n",
    "    result_check = results[i][1][0].lower()\n",
    "    if (result_check.find('ingredients') != -1):  \n",
    "        filtered.append(result_check.replace('ingredients:', ''))\n",
    "    elif (result_check.find('contains') != -1):\n",
    "        filtered.append(result_check.replace('contains:', ''))\n",
    "    elif (result_check.find('may contain') != -1):\n",
    "        filtered.append(result_check.replace('may contain', ''))\n",
    "    else:\n",
    "        filtered.append(result_check)\n",
    "\n",
    "print(filtered)"
   ]
  }
 ],
 "metadata": {
  "interpreter": {
   "hash": "058bbb4884dca741715548dc8689daaa712f0bb17b4c8a018873ab55db552143"
  },
  "kernelspec": {
   "display_name": "Python 3.9.5 64-bit",
   "language": "python",
   "name": "python3"
  },
  "language_info": {
   "codemirror_mode": {
    "name": "ipython",
    "version": 3
   },
   "file_extension": ".py",
   "mimetype": "text/x-python",
   "name": "python",
   "nbconvert_exporter": "python",
   "pygments_lexer": "ipython3",
   "version": "3.9.5"
  },
  "orig_nbformat": 4
 },
 "nbformat": 4,
 "nbformat_minor": 2
}
